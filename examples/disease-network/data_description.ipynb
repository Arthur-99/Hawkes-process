{
 "cells": [
  {
   "cell_type": "markdown",
   "metadata": {},
   "source": [
    "# Data Description Notebook"
   ]
  },
  {
   "cell_type": "markdown",
   "metadata": {},
   "source": [
    "MIMIC II (Multiparameter Intelligent Monitoring in Intensive Care) databasee, an Intensive Care Unit\n",
    "(ICU) database which is freely available, together with the user guide, from:\n",
    "http://www.physionet.org/mimic2\n",
    "\n",
    "As of version 2.6 (April 2011) MIMIC II contains around 33,000 patients of\n",
    "which approximately 25,000 are adults (having age ≥ 15 years old at time of\n",
    "last admission) and around 8000 are neonates (age ≤ 1 month old at the time\n",
    "of first admission. These patients experienced over 36,000 hospital admissions\n",
    "and over 40,000 ICU stays."
   ]
  },
  {
   "cell_type": "code",
   "execution_count": 1,
   "metadata": {},
   "outputs": [],
   "source": [
    "import pandas as pd \n",
    "import numpy as np \n",
    "import matplotlib.pyplot as plt "
   ]
  },
  {
   "cell_type": "code",
   "execution_count": 2,
   "metadata": {},
   "outputs": [],
   "source": [
    "import os "
   ]
  },
  {
   "cell_type": "code",
   "execution_count": 3,
   "metadata": {},
   "outputs": [
    {
     "data": {
      "text/plain": [
       "['.ipynb_checkpoints',\n",
       " 'data_description.ipynb',\n",
       " 'data_preprocessing.ipynb',\n",
       " 'page 19 major MIMIC 2 clinical database component',\n",
       " 'page 20 patient-to-ICD9 abd diagnosis-related froup code relationship',\n",
       " 'page 21 around caregiver table',\n",
       " 'page 22 around careunit table',\n",
       " 'page 25 noteevents',\n",
       " 'page 27 demographic information',\n",
       " 'page 28 patient medication',\n",
       " 'page 29 patient chart data',\n",
       " 'page 30 patient IO data',\n",
       " 'page 31 notes and reports',\n",
       " 'page 33 laboratory and microbiology tests',\n",
       " 'page 33-2 procedureevents',\n",
       " 'User Guide for MIMIC II Database.pdf']"
      ]
     },
     "execution_count": 3,
     "metadata": {},
     "output_type": "execute_result"
    }
   ],
   "source": [
    "os.listdir('.')"
   ]
  },
  {
   "cell_type": "code",
   "execution_count": 4,
   "metadata": {},
   "outputs": [],
   "source": [
    "import fnmatch"
   ]
  },
  {
   "cell_type": "code",
   "execution_count": 5,
   "metadata": {},
   "outputs": [
    {
     "name": "stdout",
     "output_type": "stream",
     "text": [
      "a_meddurations.txt\n",
      "additives.txt\n",
      "admissions.txt\n",
      "a_chartdurations.txt\n",
      "a_iodurations.txt\n",
      "censusevents.txt\n",
      "deliveries.txt\n",
      "d_patients.txt\n",
      "icd9.txt\n",
      "ioevents.txt\n",
      "medevents.txt\n",
      "noteevents.txt\n",
      "totalbalevents.txt\n"
     ]
    }
   ],
   "source": [
    "for page in os.listdir('.'):\n",
    "    if fnmatch.fnmatch(page, '*19*'):\n",
    "        for table in os.listdir(os.path.join('.', page)):\n",
    "            if fnmatch.fnmatch(table, '*.txt'):\n",
    "                print(table)"
   ]
  },
  {
   "cell_type": "code",
   "execution_count": 6,
   "metadata": {},
   "outputs": [],
   "source": [
    "# admissions and icd9\n",
    "admissions_path = os.path.join('.', 'page 19 major MIMIC 2 clinical database component', 'admissions.txt')\n",
    "icd9_path = os.path.join('.', 'page 19 major MIMIC 2 clinical database component', 'icd9.txt')"
   ]
  },
  {
   "cell_type": "code",
   "execution_count": 7,
   "metadata": {},
   "outputs": [],
   "source": [
    "admissions_df = pd.DataFrame(pd.read_csv(admissions_path, sep='|'))\n",
    "icd9_df = pd.DataFrame(pd.read_csv(icd9_path, sep='|'))"
   ]
  },
  {
   "cell_type": "code",
   "execution_count": 8,
   "metadata": {},
   "outputs": [
    {
     "data": {
      "text/html": [
       "<div>\n",
       "<style scoped>\n",
       "    .dataframe tbody tr th:only-of-type {\n",
       "        vertical-align: middle;\n",
       "    }\n",
       "\n",
       "    .dataframe tbody tr th {\n",
       "        vertical-align: top;\n",
       "    }\n",
       "\n",
       "    .dataframe thead th {\n",
       "        text-align: right;\n",
       "    }\n",
       "</style>\n",
       "<table border=\"1\" class=\"dataframe\">\n",
       "  <thead>\n",
       "    <tr style=\"text-align: right;\">\n",
       "      <th></th>\n",
       "      <th>subject_id</th>\n",
       "      <th>hadm_id</th>\n",
       "      <th>admit_dt</th>\n",
       "      <th>disch_dt</th>\n",
       "    </tr>\n",
       "  </thead>\n",
       "  <tbody>\n",
       "    <tr>\n",
       "      <th>0</th>\n",
       "      <td>2</td>\n",
       "      <td>25967</td>\n",
       "      <td>2806-06-15 00:00:00</td>\n",
       "      <td>2806-06-19 00:00:00</td>\n",
       "    </tr>\n",
       "    <tr>\n",
       "      <th>1</th>\n",
       "      <td>3</td>\n",
       "      <td>2075</td>\n",
       "      <td>2682-09-07 00:00:00</td>\n",
       "      <td>2682-09-18 00:00:00</td>\n",
       "    </tr>\n",
       "    <tr>\n",
       "      <th>2</th>\n",
       "      <td>4</td>\n",
       "      <td>17296</td>\n",
       "      <td>3399-04-03 00:00:00</td>\n",
       "      <td>3399-04-10 00:00:00</td>\n",
       "    </tr>\n",
       "    <tr>\n",
       "      <th>3</th>\n",
       "      <td>5</td>\n",
       "      <td>1946</td>\n",
       "      <td>2579-04-09 00:00:00</td>\n",
       "      <td>2579-04-11 00:00:00</td>\n",
       "    </tr>\n",
       "    <tr>\n",
       "      <th>4</th>\n",
       "      <td>6</td>\n",
       "      <td>23467</td>\n",
       "      <td>3389-07-07 00:00:00</td>\n",
       "      <td>3389-07-23 00:00:00</td>\n",
       "    </tr>\n",
       "  </tbody>\n",
       "</table>\n",
       "</div>"
      ],
      "text/plain": [
       "   subject_id  hadm_id             admit_dt             disch_dt\n",
       "0           2    25967  2806-06-15 00:00:00  2806-06-19 00:00:00\n",
       "1           3     2075  2682-09-07 00:00:00  2682-09-18 00:00:00\n",
       "2           4    17296  3399-04-03 00:00:00  3399-04-10 00:00:00\n",
       "3           5     1946  2579-04-09 00:00:00  2579-04-11 00:00:00\n",
       "4           6    23467  3389-07-07 00:00:00  3389-07-23 00:00:00"
      ]
     },
     "execution_count": 8,
     "metadata": {},
     "output_type": "execute_result"
    }
   ],
   "source": [
    "admissions_df.head() # subject_id, hadm_id, admit_dt"
   ]
  },
  {
   "cell_type": "code",
   "execution_count": 9,
   "metadata": {
    "scrolled": true
   },
   "outputs": [
    {
     "data": {
      "text/html": [
       "<div>\n",
       "<style scoped>\n",
       "    .dataframe tbody tr th:only-of-type {\n",
       "        vertical-align: middle;\n",
       "    }\n",
       "\n",
       "    .dataframe tbody tr th {\n",
       "        vertical-align: top;\n",
       "    }\n",
       "\n",
       "    .dataframe thead th {\n",
       "        text-align: right;\n",
       "    }\n",
       "</style>\n",
       "<table border=\"1\" class=\"dataframe\">\n",
       "  <thead>\n",
       "    <tr style=\"text-align: right;\">\n",
       "      <th></th>\n",
       "      <th>subject_id</th>\n",
       "      <th>hadm_id</th>\n",
       "      <th>sequence</th>\n",
       "      <th>code</th>\n",
       "      <th>description</th>\n",
       "    </tr>\n",
       "  </thead>\n",
       "  <tbody>\n",
       "    <tr>\n",
       "      <th>0</th>\n",
       "      <td>2</td>\n",
       "      <td>25967</td>\n",
       "      <td>1</td>\n",
       "      <td>V30.01</td>\n",
       "      <td>SINGLE LIVEBORN BORN IN HOSPITAL DELIVERED BY ...</td>\n",
       "    </tr>\n",
       "    <tr>\n",
       "      <th>1</th>\n",
       "      <td>2</td>\n",
       "      <td>25967</td>\n",
       "      <td>2</td>\n",
       "      <td>V05.3</td>\n",
       "      <td>NEED FOR PROPHYLACTIC VACCINATION AND INOCULAT...</td>\n",
       "    </tr>\n",
       "    <tr>\n",
       "      <th>2</th>\n",
       "      <td>2</td>\n",
       "      <td>25967</td>\n",
       "      <td>3</td>\n",
       "      <td>V29.0</td>\n",
       "      <td>OBSERVATION FOR SUSPECTED INFECTIOUS CONDITION</td>\n",
       "    </tr>\n",
       "    <tr>\n",
       "      <th>3</th>\n",
       "      <td>3</td>\n",
       "      <td>2075</td>\n",
       "      <td>1</td>\n",
       "      <td>038.9</td>\n",
       "      <td>UNSPECIFIED SEPTICEMIA</td>\n",
       "    </tr>\n",
       "    <tr>\n",
       "      <th>4</th>\n",
       "      <td>3</td>\n",
       "      <td>2075</td>\n",
       "      <td>2</td>\n",
       "      <td>785.59</td>\n",
       "      <td>OTHER SHOCK WITHOUT TRAUMA</td>\n",
       "    </tr>\n",
       "  </tbody>\n",
       "</table>\n",
       "</div>"
      ],
      "text/plain": [
       "   subject_id  hadm_id  sequence    code  \\\n",
       "0           2    25967         1  V30.01   \n",
       "1           2    25967         2   V05.3   \n",
       "2           2    25967         3   V29.0   \n",
       "3           3     2075         1   038.9   \n",
       "4           3     2075         2  785.59   \n",
       "\n",
       "                                         description  \n",
       "0  SINGLE LIVEBORN BORN IN HOSPITAL DELIVERED BY ...  \n",
       "1  NEED FOR PROPHYLACTIC VACCINATION AND INOCULAT...  \n",
       "2     OBSERVATION FOR SUSPECTED INFECTIOUS CONDITION  \n",
       "3                             UNSPECIFIED SEPTICEMIA  \n",
       "4                         OTHER SHOCK WITHOUT TRAUMA  "
      ]
     },
     "execution_count": 9,
     "metadata": {},
     "output_type": "execute_result"
    }
   ],
   "source": [
    "icd9_df.head() # hadm_id, code"
   ]
  },
  {
   "cell_type": "markdown",
   "metadata": {},
   "source": [
    "每个病人1个subject_id \n",
    "\n",
    "每个病人每次入院1个hadm_id (hospital admission)\n",
    "\n",
    "每次入院经过一系列诊断(sequence)\n",
    "\n",
    "每次诊断给出一个icd9 code(对应病症)\n",
    "\n",
    "可以按code将病症归为一些大类\n",
    "\n",
    "icd9: International Statistical Classification of Diseases and Related\n",
    "Health Problems (version 9)"
   ]
  },
  {
   "cell_type": "code",
   "execution_count": 10,
   "metadata": {
    "scrolled": true
   },
   "outputs": [
    {
     "data": {
      "text/html": [
       "<div>\n",
       "<style scoped>\n",
       "    .dataframe tbody tr th:only-of-type {\n",
       "        vertical-align: middle;\n",
       "    }\n",
       "\n",
       "    .dataframe tbody tr th {\n",
       "        vertical-align: top;\n",
       "    }\n",
       "\n",
       "    .dataframe thead th {\n",
       "        text-align: right;\n",
       "    }\n",
       "</style>\n",
       "<table border=\"1\" class=\"dataframe\">\n",
       "  <thead>\n",
       "    <tr style=\"text-align: right;\">\n",
       "      <th></th>\n",
       "      <th>subject_id</th>\n",
       "      <th>sex</th>\n",
       "      <th>dob</th>\n",
       "      <th>dod</th>\n",
       "      <th>hospital_expire_flg</th>\n",
       "    </tr>\n",
       "  </thead>\n",
       "  <tbody>\n",
       "    <tr>\n",
       "      <th>0</th>\n",
       "      <td>1</td>\n",
       "      <td>F</td>\n",
       "      <td>2840-08-10 00:00:00</td>\n",
       "      <td>NaN</td>\n",
       "      <td>N</td>\n",
       "    </tr>\n",
       "    <tr>\n",
       "      <th>1</th>\n",
       "      <td>2</td>\n",
       "      <td>M</td>\n",
       "      <td>2806-06-15 00:00:00</td>\n",
       "      <td>NaN</td>\n",
       "      <td>N</td>\n",
       "    </tr>\n",
       "    <tr>\n",
       "      <th>2</th>\n",
       "      <td>3</td>\n",
       "      <td>M</td>\n",
       "      <td>2606-02-28 00:00:00</td>\n",
       "      <td>2683-05-02 00:00:00</td>\n",
       "      <td>N</td>\n",
       "    </tr>\n",
       "    <tr>\n",
       "      <th>3</th>\n",
       "      <td>4</td>\n",
       "      <td>F</td>\n",
       "      <td>3351-05-30 00:00:00</td>\n",
       "      <td>NaN</td>\n",
       "      <td>N</td>\n",
       "    </tr>\n",
       "    <tr>\n",
       "      <th>4</th>\n",
       "      <td>5</td>\n",
       "      <td>M</td>\n",
       "      <td>2579-04-09 00:00:00</td>\n",
       "      <td>NaN</td>\n",
       "      <td>N</td>\n",
       "    </tr>\n",
       "  </tbody>\n",
       "</table>\n",
       "</div>"
      ],
      "text/plain": [
       "   subject_id sex                  dob                  dod  \\\n",
       "0           1   F  2840-08-10 00:00:00                  NaN   \n",
       "1           2   M  2806-06-15 00:00:00                  NaN   \n",
       "2           3   M  2606-02-28 00:00:00  2683-05-02 00:00:00   \n",
       "3           4   F  3351-05-30 00:00:00                  NaN   \n",
       "4           5   M  2579-04-09 00:00:00                  NaN   \n",
       "\n",
       "  hospital_expire_flg  \n",
       "0                   N  \n",
       "1                   N  \n",
       "2                   N  \n",
       "3                   N  \n",
       "4                   N  "
      ]
     },
     "execution_count": 10,
     "metadata": {},
     "output_type": "execute_result"
    }
   ],
   "source": [
    "# d_patients\n",
    "d_patients_path = os.path.join('.', 'page 19 major MIMIC 2 clinical database component', 'd_patients.txt')\n",
    "d_patients_df = pd.DataFrame(pd.read_csv(d_patients_path, sep='|'))\n",
    "d_patients_df.head()"
   ]
  },
  {
   "cell_type": "markdown",
   "metadata": {},
   "source": [
    "病人的性别(sex), 出生(dob, date of birth)/死亡日期(dod, date of death) "
   ]
  },
  {
   "cell_type": "code",
   "execution_count": 11,
   "metadata": {},
   "outputs": [],
   "source": [
    "icd9_class = {\n",
    "    (\"001\", \"139\"): \"infectious and parasitic diseases\",\n",
    "    (\"140\", \"239\"): \"neoplasms\",\n",
    "    (\"240\", \"279\"): \"metabolic diseases\",\n",
    "    (\"280\", \"289\"): \"diseases of the blood and blood-forming organs\",\n",
    "    (\"290\", \"319\"): \"mental disorders\",\n",
    "    (\"320\", \"389\"): \"neurologic disease\",\n",
    "    (\"390\", \"392\"): \"acute rheumatic fever\",\n",
    "    (\"393\", \"398\"): \"chronic rheumatic heart disease\",\n",
    "    (\"401\", \"405\"): \"hypertensive disease\",\n",
    "    (\"410\", \"414\"): \"ischemic heart disease\",\n",
    "    (\"415\", \"417\"): \"diseases of pulmonary circulation\",\n",
    "    (\"428\", \"428\"): \"heart failure\",\n",
    "    (\"420\", \"429\"): \"other forms of heart disease\",\n",
    "    (\"430\", \"438\"): \"cerebrovascular disease\",\n",
    "    (\"440\", \"459\"): \"arteries and veins\",\n",
    "    (\"460\", \"519\"): \"pulmonary disease\",\n",
    "    (\"520\", \"579\"): \"digestive disease\",\n",
    "    (\"580\", \"629\"): \"renal insufficiency\",\n",
    "    (\"630\", \"677\"): \"Complications of pregnancy, childbirth, and the puerperium\",\n",
    "    (\"680\", \"709\"): \"diseases of the skin and subcutaneous tissue\",\n",
    "    (\"710\", \"739\"): \"diseases of the musculoskeletal system & connective tissue\",\n",
    "    (\"740\", \"759\"): \"congenital anomalies\",\n",
    "    (\"780\", \"799\"): \"symptoms, signs, and ill-defined conditions\",\n",
    "    (\"800\", \"959\"): \"trauma\",\n",
    "    (\"960\", \"989\"): \"poisoning\",\n",
    "    (\"990\", \"995\"): \"other and unspecified effects of external causes\",\n",
    "    (\"996\",): \"complications peculiar to certain specified procedures\",\n",
    "    (\"997\",): \"complications affecting specified body systems, not elsewhere classified\",\n",
    "    (\"998\",): \"other complications of procedures, NEC\",\n",
    "    (\"999\",): \"complications of medical care, not elsewhere classified\",\n",
    "    (\"E800\", \"E999\"): \"supplementary classification of external causes of injury and poisoning\",\n",
    "    (\"V81\", \"V86\"): \"supplementary classification of factors influencing health status and contact with health services\",\n",
    "}\n",
    "\n",
    "# lower bounds: description\n",
    "lbs = []\n",
    "lb_desc = {}\n",
    "\n",
    "for bounds, description in icd9_class.items():\n",
    "    lbs.append(bounds[0])\n",
    "    lb_desc[bounds[0]] = description\n"
   ]
  },
  {
   "cell_type": "code",
   "execution_count": 12,
   "metadata": {
    "scrolled": true
   },
   "outputs": [
    {
     "data": {
      "text/plain": [
       "['001',\n",
       " '140',\n",
       " '240',\n",
       " '280',\n",
       " '290',\n",
       " '320',\n",
       " '390',\n",
       " '393',\n",
       " '401',\n",
       " '410',\n",
       " '415',\n",
       " '428',\n",
       " '420',\n",
       " '430',\n",
       " '440',\n",
       " '460',\n",
       " '520',\n",
       " '580',\n",
       " '630',\n",
       " '680',\n",
       " '710',\n",
       " '740',\n",
       " '780',\n",
       " '800',\n",
       " '960',\n",
       " '990',\n",
       " '996',\n",
       " '997',\n",
       " '998',\n",
       " '999',\n",
       " 'E800',\n",
       " 'V81']"
      ]
     },
     "execution_count": 12,
     "metadata": {},
     "output_type": "execute_result"
    }
   ],
   "source": [
    "lbs "
   ]
  },
  {
   "cell_type": "code",
   "execution_count": 13,
   "metadata": {
    "scrolled": true
   },
   "outputs": [
    {
     "data": {
      "text/plain": [
       "{'001': 'infectious and parasitic diseases',\n",
       " '140': 'neoplasms',\n",
       " '240': 'metabolic diseases',\n",
       " '280': 'diseases of the blood and blood-forming organs',\n",
       " '290': 'mental disorders',\n",
       " '320': 'neurologic disease',\n",
       " '390': 'acute rheumatic fever',\n",
       " '393': 'chronic rheumatic heart disease',\n",
       " '401': 'hypertensive disease',\n",
       " '410': 'ischemic heart disease',\n",
       " '415': 'diseases of pulmonary circulation',\n",
       " '428': 'heart failure',\n",
       " '420': 'other forms of heart disease',\n",
       " '430': 'cerebrovascular disease',\n",
       " '440': 'arteries and veins',\n",
       " '460': 'pulmonary disease',\n",
       " '520': 'digestive disease',\n",
       " '580': 'renal insufficiency',\n",
       " '630': 'Complications of pregnancy, childbirth, and the puerperium',\n",
       " '680': 'diseases of the skin and subcutaneous tissue',\n",
       " '710': 'diseases of the musculoskeletal system & connective tissue',\n",
       " '740': 'congenital anomalies',\n",
       " '780': 'symptoms, signs, and ill-defined conditions',\n",
       " '800': 'trauma',\n",
       " '960': 'poisoning',\n",
       " '990': 'other and unspecified effects of external causes',\n",
       " '996': 'complications peculiar to certain specified procedures',\n",
       " '997': 'complications affecting specified body systems, not elsewhere classified',\n",
       " '998': 'other complications of procedures, NEC',\n",
       " '999': 'complications of medical care, not elsewhere classified',\n",
       " 'E800': 'supplementary classification of external causes of injury and poisoning',\n",
       " 'V81': 'supplementary classification of factors influencing health status and contact with health services'}"
      ]
     },
     "execution_count": 13,
     "metadata": {},
     "output_type": "execute_result"
    }
   ],
   "source": [
    "lb_desc"
   ]
  },
  {
   "cell_type": "code",
   "execution_count": 14,
   "metadata": {},
   "outputs": [
    {
     "data": {
      "text/plain": [
       "'780'"
      ]
     },
     "execution_count": 14,
     "metadata": {},
     "output_type": "execute_result"
    }
   ],
   "source": [
    "def find_largest_lb(code, sorted_lbs):\n",
    "    left = 0 \n",
    "    right = len(sorted_lbs) - 1 \n",
    "    while left <= right: \n",
    "        mid = (left + right) // 2 \n",
    "        if sorted_lbs[mid] < code:\n",
    "            left += 1 \n",
    "        else:\n",
    "            right -= 1 \n",
    "            \n",
    "    return sorted_lbs[right]\n",
    "\n",
    "find_largest_lb(\"785.59\", lbs)"
   ]
  }
 ],
 "metadata": {
  "kernelspec": {
   "display_name": "Python 3",
   "language": "python",
   "name": "python3"
  },
  "language_info": {
   "codemirror_mode": {
    "name": "ipython",
    "version": 3
   },
   "file_extension": ".py",
   "mimetype": "text/x-python",
   "name": "python",
   "nbconvert_exporter": "python",
   "pygments_lexer": "ipython3",
   "version": "3.7.4"
  }
 },
 "nbformat": 4,
 "nbformat_minor": 2
}
